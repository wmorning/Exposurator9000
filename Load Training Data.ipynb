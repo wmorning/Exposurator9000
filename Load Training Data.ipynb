{
 "cells": [
  {
   "cell_type": "code",
   "execution_count": 4,
   "metadata": {
    "collapsed": true
   },
   "outputs": [],
   "source": [
    "import json"
   ]
  },
  {
   "cell_type": "code",
   "execution_count": 38,
   "metadata": {
    "collapsed": false
   },
   "outputs": [],
   "source": [
    "from glob import glob\n",
    "class Artifact(object):\n",
    "    \n",
    "    def __init__(self, expname, ccd, problem, x, y):\n",
    "        self.expname = expname\n",
    "        self.ccd = ccd\n",
    "        self.problem = problem\n",
    "        self.x = x\n",
    "        self.y = y\n",
    "        \n",
    "\n",
    "def load_release_artifacts(artifact_base):\n",
    "    files = glob(artifact_base+'*')\n",
    "    artifacts = []\n",
    "    for f in files:\n",
    "        with open(f, 'r') as fp:\n",
    "            arts = json.load(fp)\n",
    "            for art in arts:\n",
    "                if ~art['false_positive']:\n",
    "                    oart = Artifact(art['expname'], art['ccd'],\\\n",
    "                                    art['problem'], art['x'], \\\n",
    "                                    art['y'])\n",
    "                    artifacts.append(oart)\n",
    "\n",
    "    artifacts.sort(key=lambda x : x.expname)\n",
    "    artifacts = np.array(artifacts)\n",
    "    \n",
    "    return artifacts\n",
    "\n",
    "def create_design_matrix(image_glob, artifacts, xdiam=100, ydiam=100):\n",
    "    \n",
    "    assert((xdiam<2048) & (ydiam<4096))\n",
    "    \n",
    "    edirs  = np.array(glob(image_glob))\n",
    "    edirs = np.sort(edirs)\n",
    "    features = []\n",
    "    labels = []\n",
    "    loaded = []\n",
    "    imgcache = None\n",
    "    \n",
    "    for art in artifacts:\n",
    "        xlflag = xrflag = ylflag = yrflag = False\n",
    "        if art.expname in loaded:\n",
    "            if art.x-xdiam/2<0:\n",
    "                minx = 0\n",
    "            else:\n",
    "                minx = art.x-xdiam/2\n",
    "            if art.x+xdiam/2>imgcache.shape[0]:\n",
    "                maxx = imgcache.shape[0]\n",
    "            else:\n",
    "                maxx = art.x+xdiam/2\n",
    "\n",
    "            if art.y-ydiam/2<0:\n",
    "                miny = 0\n",
    "            else:\n",
    "                miny = art.y-ydiam/2\n",
    "            if art.y+ydiam/2>imgcache.shape[1]:\n",
    "                maxy = imgcache.shape[1]\n",
    "            else:\n",
    "                maxy = art.y+ydiam/2              \n",
    "\n",
    "            stamp = imgcache[minx:maxx, miny:maxy]\n",
    "            features.append(stamp.flatten())\n",
    "            labels.append(art.problem)\n",
    "            \n",
    "    return np.array(features), np.array(labels)\n",
    "\n",
    "def handle_edges(endpts, image, x, y, xdiam=100, ydiam=100):\n",
    "    \n",
    "    stamp = np.zeros((xdiam,ydiam))\n",
    "    \n",
    "    stamp[max(0,xdiam-(endpts[0][1]-endpts[0][1])):\n",
    "          min(xdiam, endpts[0])\n",
    "    \n"
   ]
  },
  {
   "cell_type": "code",
   "execution_count": 39,
   "metadata": {
    "collapsed": false
   },
   "outputs": [],
   "source": [
    "artifacts = load_release_artifacts('/nfs/slac/g/ki/ki23/des/jderose/des/se_exposures/metadata/SVA1/')"
   ]
  },
  {
   "cell_type": "code",
   "execution_count": 48,
   "metadata": {
    "collapsed": false
   },
   "outputs": [
    {
     "name": "stdout",
     "output_type": "stream",
     "text": [
      "['/nfs/slac/g/ki/ki23/des/jderose/des/se_exposures/OPS/red/20130715185024_20121221/red/DECam_00163238', '/nfs/slac/g/ki/ki23/des/jderose/des/se_exposures/OPS/red/20130716074552_20121222/red/DECam_00163490', '/nfs/slac/g/ki/ki23/des/jderose/des/se_exposures/OPS/red/20130712064117_20121207/red/DECam_00159178', '/nfs/slac/g/ki/ki23/des/jderose/des/se_exposures/OPS/red/20130805180050_20121101/red/DECam_00145351']\n"
     ]
    }
   ],
   "source": [
    "ig = '/nfs/slac/g/ki/ki23/des/jderose/des/se_exposures/OPS/red/20130*/red*/*'\n"
   ]
  },
  {
   "cell_type": "code",
   "execution_count": null,
   "metadata": {
    "collapsed": true
   },
   "outputs": [],
   "source": []
  }
 ],
 "metadata": {
  "kernelspec": {
   "display_name": "Python 2",
   "language": "python",
   "name": "python2"
  },
  "language_info": {
   "codemirror_mode": {
    "name": "ipython",
    "version": 2
   },
   "file_extension": ".py",
   "mimetype": "text/x-python",
   "name": "python",
   "nbconvert_exporter": "python",
   "pygments_lexer": "ipython2",
   "version": "2.7.10"
  }
 },
 "nbformat": 4,
 "nbformat_minor": 0
}
